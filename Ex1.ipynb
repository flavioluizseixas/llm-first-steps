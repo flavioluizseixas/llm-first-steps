{
  "cells": [
    {
      "cell_type": "markdown",
      "metadata": {},
      "source": [
        "## 🟢 1. Execução Interativa em Terminal\n",
        "\n",
        "**🔹 Enunciado:**  \n",
        "Implemente um chatbot simples em terminal que responde perguntas em português, utilizando exemplos explícitos no prompt.\n",
        "\n",
        "**🧩 Implementação:**  \n",
        "O código carrega o modelo `TinyLlama-1.1B-Chat` da Hugging Face, define um prompt com instruções e exemplos, recebe uma pergunta via `input()` e gera uma resposta com `transformers`.\n",
        "\n",
        "**🚀 Resultados Esperados:**\n",
        "- Executado em ambiente local com suporte CUDA ou CPU.\n",
        "- Geração de respostas coerentes em português com base em poucos-shots no prompt."
      ]
    },
    {
      "cell_type": "code",
      "execution_count": 1,
      "metadata": {
        "colab": {
          "base_uri": "https://localhost:8080/"
        },
        "id": "bAETVztjSfT8",
        "outputId": "97d0f96b-9e1a-460f-fa93-f85643d5f124"
      },
      "outputs": [],
      "source": [
        "from transformers import AutoTokenizer, AutoModelForCausalLM\n",
        "import torch"
      ]
    },
    {
      "cell_type": "code",
      "execution_count": 2,
      "metadata": {},
      "outputs": [
        {
          "name": "stderr",
          "output_type": "stream",
          "text": [
            "2025-07-13 15:45:10.285218: E external/local_xla/xla/stream_executor/cuda/cuda_fft.cc:467] Unable to register cuFFT factory: Attempting to register factory for plugin cuFFT when one has already been registered\n",
            "WARNING: All log messages before absl::InitializeLog() is called are written to STDERR\n",
            "E0000 00:00:1752432310.506255  123556 cuda_dnn.cc:8579] Unable to register cuDNN factory: Attempting to register factory for plugin cuDNN when one has already been registered\n",
            "E0000 00:00:1752432310.567927  123556 cuda_blas.cc:1407] Unable to register cuBLAS factory: Attempting to register factory for plugin cuBLAS when one has already been registered\n",
            "W0000 00:00:1752432310.975481  123556 computation_placer.cc:177] computation placer already registered. Please check linkage and avoid linking the same target more than once.\n",
            "W0000 00:00:1752432310.975554  123556 computation_placer.cc:177] computation placer already registered. Please check linkage and avoid linking the same target more than once.\n",
            "W0000 00:00:1752432310.975563  123556 computation_placer.cc:177] computation placer already registered. Please check linkage and avoid linking the same target more than once.\n",
            "W0000 00:00:1752432310.975571  123556 computation_placer.cc:177] computation placer already registered. Please check linkage and avoid linking the same target more than once.\n",
            "2025-07-13 15:45:11.027132: I tensorflow/core/platform/cpu_feature_guard.cc:210] This TensorFlow binary is optimized to use available CPU instructions in performance-critical operations.\n",
            "To enable the following instructions: AVX2 FMA, in other operations, rebuild TensorFlow with the appropriate compiler flags.\n"
          ]
        }
      ],
      "source": [
        "model_id = \"TinyLlama/TinyLlama-1.1B-Chat-v1.0\"\n",
        "\n",
        "tokenizer = AutoTokenizer.from_pretrained(model_id)\n",
        "model = AutoModelForCausalLM.from_pretrained(\n",
        "    model_id,\n",
        "    torch_dtype=torch.float16 if torch.cuda.is_available() else torch.float32,\n",
        "    device_map=\"auto\"\n",
        ")"
      ]
    },
    {
      "cell_type": "code",
      "execution_count": 11,
      "metadata": {},
      "outputs": [],
      "source": [
        "pergunta = input(\"Pergunta: \")"
      ]
    },
    {
      "cell_type": "code",
      "execution_count": 12,
      "metadata": {},
      "outputs": [],
      "source": [
        "# Prompt explícito com exemplos\n",
        "prompt = f\"\"\"<|system|>Você é um assistente útil que responde sempre em português de forma clara e objetiva.<|end|>\n",
        "<|user|>Qual é a capital da França?<|end|>\n",
        "<|assistant|>A capital da França é Paris.<|end|>\n",
        "<|user|>Quem descobriu o Brasil?<|end|>\n",
        "<|assistant|>O Brasil foi descoberto por Pedro Álvares Cabral em 1500.<|end|>\n",
        "<|user|>{pergunta}<|end|>\n",
        "<|assistant|>\"\"\""
      ]
    },
    {
      "cell_type": "code",
      "execution_count": 13,
      "metadata": {},
      "outputs": [],
      "source": [
        "inputs = tokenizer(prompt, return_tensors=\"pt\").to(model.device)\n",
        "\n",
        "outputs = model.generate(\n",
        "    **inputs,\n",
        "    max_new_tokens=150,\n",
        "    temperature=0.7,\n",
        "    top_p=0.9,\n",
        "    do_sample=True,\n",
        "    pad_token_id=tokenizer.eos_token_id,\n",
        "    eos_token_id=tokenizer.eos_token_id\n",
        ")"
      ]
    },
    {
      "cell_type": "code",
      "execution_count": 14,
      "metadata": {},
      "outputs": [
        {
          "name": "stdout",
          "output_type": "stream",
          "text": [
            "Resposta: A capital do Estados Unidos é Washington D.C. (District of Columbia) no estado de Washington.<|end|>\n"
          ]
        }
      ],
      "source": [
        "saida = tokenizer.decode(outputs[0], skip_special_tokens=True)\n",
        "resposta = saida.split(\"<|assistant|>\")[-1].strip()\n",
        "print(\"Resposta:\", resposta)"
      ]
    }
  ],
  "metadata": {
    "colab": {
      "provenance": []
    },
    "kernelspec": {
      "display_name": "myenv",
      "language": "python",
      "name": "python3"
    },
    "language_info": {
      "codemirror_mode": {
        "name": "ipython",
        "version": 3
      },
      "file_extension": ".py",
      "mimetype": "text/x-python",
      "name": "python",
      "nbconvert_exporter": "python",
      "pygments_lexer": "ipython3",
      "version": "3.12.5"
    }
  },
  "nbformat": 4,
  "nbformat_minor": 0
}
