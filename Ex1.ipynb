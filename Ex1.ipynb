{
  "nbformat": 4,
  "nbformat_minor": 0,
  "metadata": {
    "colab": {
      "provenance": []
    },
    "kernelspec": {
      "name": "python3",
      "display_name": "Python 3"
    },
    "language_info": {
      "name": "python"
    }
  },
  "cells": [
    {
      "cell_type": "code",
      "execution_count": 3,
      "metadata": {
        "colab": {
          "base_uri": "https://localhost:8080/"
        },
        "id": "bAETVztjSfT8",
        "outputId": "97d0f96b-9e1a-460f-fa93-f85643d5f124"
      },
      "outputs": [
        {
          "output_type": "stream",
          "name": "stderr",
          "text": [
            "WARNING:accelerate.big_modeling:Some parameters are on the meta device because they were offloaded to the cpu and disk.\n"
          ]
        },
        {
          "output_type": "stream",
          "name": "stdout",
          "text": [
            "Pergunta: qual é a capital dos estados unidos?\n",
            "Resposta: A capital dos Estados Unidos é Washington, D.C.<|end|>\n"
          ]
        }
      ],
      "source": [
        "from transformers import AutoTokenizer, AutoModelForCausalLM\n",
        "import torch\n",
        "\n",
        "model_id = \"TinyLlama/TinyLlama-1.1B-Chat-v1.0\"\n",
        "\n",
        "tokenizer = AutoTokenizer.from_pretrained(model_id)\n",
        "model = AutoModelForCausalLM.from_pretrained(\n",
        "    model_id,\n",
        "    torch_dtype=torch.float16 if torch.cuda.is_available() else torch.float32,\n",
        "    device_map=\"auto\"\n",
        ")\n",
        "\n",
        "pergunta = input(\"Pergunta: \")\n",
        "\n",
        "# Prompt explícito com exemplos\n",
        "prompt = f\"\"\"<|system|>Você é um assistente útil que responde sempre em português de forma clara e objetiva.<|end|>\n",
        "<|user|>Qual é a capital da França?<|end|>\n",
        "<|assistant|>A capital da França é Paris.<|end|>\n",
        "<|user|>Quem descobriu o Brasil?<|end|>\n",
        "<|assistant|>O Brasil foi descoberto por Pedro Álvares Cabral em 1500.<|end|>\n",
        "<|user|>{pergunta}<|end|>\n",
        "<|assistant|>\"\"\"\n",
        "\n",
        "inputs = tokenizer(prompt, return_tensors=\"pt\").to(model.device)\n",
        "\n",
        "outputs = model.generate(\n",
        "    **inputs,\n",
        "    max_new_tokens=150,\n",
        "    temperature=0.7,\n",
        "    top_p=0.9,\n",
        "    do_sample=True,\n",
        "    pad_token_id=tokenizer.eos_token_id,\n",
        "    eos_token_id=tokenizer.eos_token_id\n",
        ")\n",
        "\n",
        "saida = tokenizer.decode(outputs[0], skip_special_tokens=True)\n",
        "resposta = saida.split(\"<|assistant|>\")[-1].strip()\n",
        "print(\"Resposta:\", resposta)\n"
      ]
    }
  ]
}